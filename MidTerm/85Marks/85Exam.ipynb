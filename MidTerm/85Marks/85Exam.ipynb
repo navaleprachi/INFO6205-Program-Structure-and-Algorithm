{
 "cells": [
  {
   "cell_type": "markdown",
   "metadata": {},
   "source": [
    "## Add Two Integers\n",
    "## Jagadeesh Vasudevamurthy"
   ]
  },
  {
   "cell_type": "code",
   "execution_count": 10,
   "metadata": {},
   "outputs": [],
   "source": [
    "############################################################\n",
    "# Exam.py\n",
    "# Author: Jagadeesh Vasudevamurthy\n",
    "# Copyright: Jagadeesh Vasudevamurthy 2024\n",
    "###########################################################\n",
    "\n",
    "############################################################\n",
    "# Replace the code given here\n",
    "###########################################################\n",
    "\n",
    "\n",
    "########################################\n",
    "# WRITE CODE BELOW\n",
    "########################################\n",
    "class Exam:\n",
    "    def __init__(self, a,b,c,show)->'None':\n",
    "        if (show):\n",
    "          print(\"a =\",a)\n",
    "          print(\"b =\",b)\n",
    "\n",
    "        #WRITE CODE BELOW\n",
    "\n",
    "        result = self.add_without_plus(a, b)\n",
    "        if result == c:\n",
    "            print(\"Result is correct: c =\", c)\n",
    "        else:\n",
    "            print(f\"Result is incorrect: Expected {c}, but got {result}\")\n",
    "\n",
    "    def add_without_plus(self, x, y):\n",
    "        # Adding two numbers without using '+' operator\n",
    "        MASK = 0xFFFFFFFF\n",
    "        MAX_INT = 0x7FFFFFFF\n",
    "        while y != 0:\n",
    "            # Calculate carry\n",
    "            carry = (x & y) & MASK\n",
    "            # XOR for sum without carry\n",
    "            x = (x ^ y) & MASK\n",
    "            # Shift carry left\n",
    "            y = (carry << 1) & MASK\n",
    "\n",
    "        # If x exceeds the max int value, return its two's complement negative\n",
    "        return x if x <= MAX_INT else ~(x ^ MASK)\n",
    "\n"
   ]
  },
  {
   "cell_type": "markdown",
   "metadata": {},
   "source": [
    "##  CANNOT CHANGE ANYTHING BELOW"
   ]
  },
  {
   "cell_type": "markdown",
   "metadata": {},
   "source": [
    "## TEST BENCH\n",
    "## NOTHING CAN BE CHANED BELOW"
   ]
  },
  {
   "cell_type": "code",
   "execution_count": 11,
   "metadata": {},
   "outputs": [],
   "source": [
    "\n",
    "############################################################\n",
    "# main \n",
    "# YOU CANNOT CHANGE ANYTHING BELOW\n",
    "###########################################################\n",
    "def main():\n",
    "    print(\"TEST ON YOUR OWN. a =1 b =-1 answer is 0\")\n",
    "    print(\"Must call only:Exam(a,b,c,True)\")\n",
    "    print(\"You cannot call any other function\")\n",
    "    Exam(-1, -5, -6, True)\n",
    "    \n"
   ]
  },
  {
   "cell_type": "code",
   "execution_count": 12,
   "metadata": {},
   "outputs": [
    {
     "name": "stdout",
     "output_type": "stream",
     "text": [
      "TEST ON YOUR OWN. a =1 b =-1 answer is 0\n",
      "Must call only:Exam(a,b,c,True)\n",
      "You cannot call any other function\n",
      "a = -1\n",
      "b = -5\n",
      "Result is correct: c = -6\n"
     ]
    }
   ],
   "source": [
    "############################################################\n",
    "# main\n",
    "###########################################################\n",
    "if (__name__    == '__main__'):\n",
    "    main()"
   ]
  }
 ],
 "metadata": {
  "kernelspec": {
   "display_name": "Python 3",
   "language": "python",
   "name": "python3"
  },
  "language_info": {
   "codemirror_mode": {
    "name": "ipython",
    "version": 3
   },
   "file_extension": ".py",
   "mimetype": "text/x-python",
   "name": "python",
   "nbconvert_exporter": "python",
   "pygments_lexer": "ipython3",
   "version": "3.9.6"
  }
 },
 "nbformat": 4,
 "nbformat_minor": 4
}
